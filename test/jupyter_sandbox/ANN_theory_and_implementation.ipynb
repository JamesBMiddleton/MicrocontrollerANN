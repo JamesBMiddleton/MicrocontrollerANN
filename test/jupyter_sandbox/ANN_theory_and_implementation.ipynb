{
 "cells": [
  {
   "cell_type": "code",
   "execution_count": 68,
   "id": "dc78120e",
   "metadata": {},
   "outputs": [],
   "source": [
    "import numpy as np\n",
    "from sklearn.datasets import load_iris\n",
    "from sklearn.datasets import load_diabetes\n",
    "from sklearn.linear_model import Perceptron\n",
    "from sklearn.model_selection import train_test_split\n",
    "from sklearn.preprocessing import MinMaxScaler\n",
    "from sklearn.preprocessing import StandardScaler"
   ]
  },
  {
   "cell_type": "markdown",
   "id": "347d1c10",
   "metadata": {},
   "source": [
    "## Simple perceptron w/sklearn API + Iris classification"
   ]
  },
  {
   "cell_type": "code",
   "execution_count": 53,
   "id": "a15392e2",
   "metadata": {},
   "outputs": [],
   "source": [
    "iris = load_iris()\n",
    "X = iris.data[:, (2,3)] # only petal length and width\n",
    "y = (iris.target == 0).astype(int)  # make binary \"is it a setosa?\"\n",
    "\n",
    "X_train, X_test, y_train, y_test = train_test_split(X, y)"
   ]
  },
  {
   "cell_type": "code",
   "execution_count": 92,
   "id": "30b1c352",
   "metadata": {},
   "outputs": [
    {
     "data": {
      "text/html": [
       "<style>#sk-container-id-4 {color: black;background-color: white;}#sk-container-id-4 pre{padding: 0;}#sk-container-id-4 div.sk-toggleable {background-color: white;}#sk-container-id-4 label.sk-toggleable__label {cursor: pointer;display: block;width: 100%;margin-bottom: 0;padding: 0.3em;box-sizing: border-box;text-align: center;}#sk-container-id-4 label.sk-toggleable__label-arrow:before {content: \"▸\";float: left;margin-right: 0.25em;color: #696969;}#sk-container-id-4 label.sk-toggleable__label-arrow:hover:before {color: black;}#sk-container-id-4 div.sk-estimator:hover label.sk-toggleable__label-arrow:before {color: black;}#sk-container-id-4 div.sk-toggleable__content {max-height: 0;max-width: 0;overflow: hidden;text-align: left;background-color: #f0f8ff;}#sk-container-id-4 div.sk-toggleable__content pre {margin: 0.2em;color: black;border-radius: 0.25em;background-color: #f0f8ff;}#sk-container-id-4 input.sk-toggleable__control:checked~div.sk-toggleable__content {max-height: 200px;max-width: 100%;overflow: auto;}#sk-container-id-4 input.sk-toggleable__control:checked~label.sk-toggleable__label-arrow:before {content: \"▾\";}#sk-container-id-4 div.sk-estimator input.sk-toggleable__control:checked~label.sk-toggleable__label {background-color: #d4ebff;}#sk-container-id-4 div.sk-label input.sk-toggleable__control:checked~label.sk-toggleable__label {background-color: #d4ebff;}#sk-container-id-4 input.sk-hidden--visually {border: 0;clip: rect(1px 1px 1px 1px);clip: rect(1px, 1px, 1px, 1px);height: 1px;margin: -1px;overflow: hidden;padding: 0;position: absolute;width: 1px;}#sk-container-id-4 div.sk-estimator {font-family: monospace;background-color: #f0f8ff;border: 1px dotted black;border-radius: 0.25em;box-sizing: border-box;margin-bottom: 0.5em;}#sk-container-id-4 div.sk-estimator:hover {background-color: #d4ebff;}#sk-container-id-4 div.sk-parallel-item::after {content: \"\";width: 100%;border-bottom: 1px solid gray;flex-grow: 1;}#sk-container-id-4 div.sk-label:hover label.sk-toggleable__label {background-color: #d4ebff;}#sk-container-id-4 div.sk-serial::before {content: \"\";position: absolute;border-left: 1px solid gray;box-sizing: border-box;top: 0;bottom: 0;left: 50%;z-index: 0;}#sk-container-id-4 div.sk-serial {display: flex;flex-direction: column;align-items: center;background-color: white;padding-right: 0.2em;padding-left: 0.2em;position: relative;}#sk-container-id-4 div.sk-item {position: relative;z-index: 1;}#sk-container-id-4 div.sk-parallel {display: flex;align-items: stretch;justify-content: center;background-color: white;position: relative;}#sk-container-id-4 div.sk-item::before, #sk-container-id-4 div.sk-parallel-item::before {content: \"\";position: absolute;border-left: 1px solid gray;box-sizing: border-box;top: 0;bottom: 0;left: 50%;z-index: -1;}#sk-container-id-4 div.sk-parallel-item {display: flex;flex-direction: column;z-index: 1;position: relative;background-color: white;}#sk-container-id-4 div.sk-parallel-item:first-child::after {align-self: flex-end;width: 50%;}#sk-container-id-4 div.sk-parallel-item:last-child::after {align-self: flex-start;width: 50%;}#sk-container-id-4 div.sk-parallel-item:only-child::after {width: 0;}#sk-container-id-4 div.sk-dashed-wrapped {border: 1px dashed gray;margin: 0 0.4em 0.5em 0.4em;box-sizing: border-box;padding-bottom: 0.4em;background-color: white;}#sk-container-id-4 div.sk-label label {font-family: monospace;font-weight: bold;display: inline-block;line-height: 1.2em;}#sk-container-id-4 div.sk-label-container {text-align: center;}#sk-container-id-4 div.sk-container {/* jupyter's `normalize.less` sets `[hidden] { display: none; }` but bootstrap.min.css set `[hidden] { display: none !important; }` so we also need the `!important` here to be able to override the default hidden behavior on the sphinx rendered scikit-learn.org. See: https://github.com/scikit-learn/scikit-learn/issues/21755 */display: inline-block !important;position: relative;}#sk-container-id-4 div.sk-text-repr-fallback {display: none;}</style><div id=\"sk-container-id-4\" class=\"sk-top-container\"><div class=\"sk-text-repr-fallback\"><pre>Perceptron()</pre><b>In a Jupyter environment, please rerun this cell to show the HTML representation or trust the notebook. <br />On GitHub, the HTML representation is unable to render, please try loading this page with nbviewer.org.</b></div><div class=\"sk-container\" hidden><div class=\"sk-item\"><div class=\"sk-estimator sk-toggleable\"><input class=\"sk-toggleable__control sk-hidden--visually\" id=\"sk-estimator-id-4\" type=\"checkbox\" checked><label for=\"sk-estimator-id-4\" class=\"sk-toggleable__label sk-toggleable__label-arrow\">Perceptron</label><div class=\"sk-toggleable__content\"><pre>Perceptron()</pre></div></div></div></div></div>"
      ],
      "text/plain": [
       "Perceptron()"
      ]
     },
     "execution_count": 92,
     "metadata": {},
     "output_type": "execute_result"
    }
   ],
   "source": [
    "perceptron = Perceptron()\n",
    "perceptron.fit(X_train, y_train)"
   ]
  },
  {
   "cell_type": "code",
   "execution_count": 93,
   "id": "edc4ff84",
   "metadata": {},
   "outputs": [
    {
     "name": "stdout",
     "output_type": "stream",
     "text": [
      "1.0\n"
     ]
    }
   ],
   "source": [
    "print(perceptron.score(X_test, y_test)) # given petal length of 2 and width of 0.5, is it a setosa?"
   ]
  },
  {
   "cell_type": "markdown",
   "id": "03dcf22b",
   "metadata": {},
   "source": [
    "## Simple perceptron from scratch w/Iris classification"
   ]
  },
  {
   "cell_type": "markdown",
   "id": "7863820e",
   "metadata": {},
   "source": [
    "A single neuron/node with:\n",
    "- 2 inputs (petal length and width) and 2 input weights\n",
    "- 1 bias input (always inputs 1) and 1 bias weight\n",
    "- 1 binary output (1 == \"is setosa\", 0 == \"is not setosa\")\n",
    "\n",
    "Learning process:\n",
    "- For each input instance in training set:\n",
    "    - multiply each input feature (petal length and width) by its weight, and multiply the bias by its weight\n",
    "    - Sum the results\n",
    "    - If greater than or equal to 0, output 1, else output 0\n",
    "    - Calculate error by minusing the output from the target output. \n",
    "    - For each weight:\n",
    "        - Add the ((error * learning rate) * input) to the weight\n",
    "        - e.g. if the weight was 0.5, the input was -0.7, the output was 1 and the target output was 0, that's an error of -1, 0.05 * -1 * -0.7 = 0.035, so new weight is 0.535. If you got the same input again you've amplified the negative input which will result in a sum of weights * inputs closer to being less than 0, resulting in an output of 0, the target.\n",
    "        - e.g. if the weight was 0.5, the input was 0.7, the output 1 and the target output was 0, that's error of -1, 0.05 * -1 * 0.7 = -0.035, so the new weight is 0.465. If you got the same input again, you've supressed the positive input which will result in a sum of weights * inputs closer to being less than 0, resulting in an output of 0, the target.\n",
    "       \n"
   ]
  },
  {
   "cell_type": "code",
   "execution_count": 80,
   "id": "ea7f080b",
   "metadata": {},
   "outputs": [],
   "source": [
    "class MyPerceptron:\n",
    "    def __init__(self):   \n",
    "        self.input_weights = [0.5, 0.5]\n",
    "        self.bias_weight = 0.5\n",
    "        self.learning_rate = 0.05\n",
    "    \n",
    "    def fit(self, X, y):\n",
    "        for i in range(0, X.shape[0]):\n",
    "            output = self.predict(X[i, :])\n",
    "            error = y[i] - output\n",
    "            for j in range(0, len(self.input_weights)):\n",
    "                self.input_weights[j] = self.input_weights[j] + ((self.learning_rate * error) * X[i, j])\n",
    "            self.bias_weight = self.bias_weight + ((self.learning_rate * error) * 1)\n",
    "            \n",
    "    def predict(self, x):\n",
    "        product = 0\n",
    "        for input_val, weight in zip(x, self.input_weights):\n",
    "            product += input_val * weight\n",
    "        product += 1 * self.bias_weight\n",
    "        return int(product >= 0) # simple heaviside step function\n",
    "    \n",
    "    def score(self, X, y):\n",
    "        error = y.shape[0]\n",
    "        for i in range(0, X.shape[0]):\n",
    "            output = self.predict(X[i, :])\n",
    "            error -= abs(y[i] - output)\n",
    "        return f\"{error}/{y.shape[0]}\""
   ]
  },
  {
   "cell_type": "code",
   "execution_count": 97,
   "id": "2ce6ac4c",
   "metadata": {},
   "outputs": [
    {
     "name": "stdout",
     "output_type": "stream",
     "text": [
      "[0.5, 0.5]\n",
      "20/38\n",
      "[-0.20999999999999996, 0.19]\n",
      "38/38\n"
     ]
    }
   ],
   "source": [
    "model = MyPerceptron()\n",
    "print(model.input_weights)\n",
    "print(model.score(X_test,y_test))\n",
    "model.fit(X_train, y_train)\n",
    "print(model.input_weights)\n",
    "print(model.score(X_test,y_test))"
   ]
  },
  {
   "cell_type": "markdown",
   "id": "0597a7d0",
   "metadata": {},
   "source": [
    "## Simple perceptron continous output using backpropagation"
   ]
  },
  {
   "cell_type": "code",
   "execution_count": 82,
   "id": "a4a0d055",
   "metadata": {},
   "outputs": [],
   "source": [
    "import math\n",
    "\n",
    "def sigmoid(z):\n",
    "    return 1 / (1 + math.exp(-z))\n",
    "\n",
    "def half_mse(a, y):\n",
    "    return 0.5 * ((a - y)**2)   # half MSE is nicer derivative than MSE\n",
    "\n",
    "\n",
    "class BackPropagatingPerceptron:\n",
    "    def __init__(self):\n",
    "        self.a_out = []   # output after sigmoid - is a matrix because storing output from multiple input instances\n",
    "        #self.z_out = []   # doesn't need storing for backprop\n",
    "        self.w_out = [0.5, 0.5]\n",
    "        self.b_out = 0.5\n",
    "        \n",
    "        self.l_rate = 0.5\n",
    "    \n",
    "    def forward_pass(self, X, y):\n",
    "        cost_out = []\n",
    "        for i in range(0, X.shape[0]):\n",
    "            z_out = 0\n",
    "            for j in range(0, len(self.w_out)):\n",
    "                z_out += self.w_out[j] * X[i, j]\n",
    "            z_out += self.b_out\n",
    "            squished = sigmoid(z_out)\n",
    "            self.a_out.append(squished) # matrix cus for hidden layers it'd be multiple outputs per input instance\n",
    "            cost = half_mse(squished, y[i])\n",
    "            cost_out.append(cost)\n",
    "        return sum(cost_out)\n",
    "    \n",
    "    def backwards_pass(self, X, y):\n",
    "        w_delta_out = [[],[]] # 1 gradient per weight per input instance\n",
    "        b_delta_out = [] # 1 gradient per input instance\n",
    "        for i in range(0, X.shape[0]): # i = instance\n",
    "            for j in range(0, len(self.w_out)): # j = weight\n",
    "                w_delta_out[j].append((-(y[i] - self.a_out[i])) * (self.a_out[i]*(1-self.a_out[i])) * X[i, j])  \n",
    "            b_delta_out.append((-(y[i] - self.a_out[i])) * (self.a_out[i]*(1-self.a_out[i])) * 1)\n",
    "        \n",
    "        for i in range(0, len(w_delta_out)):\n",
    "            self.w_out[i] = self.w_out[i] - (self.l_rate * (sum(w_delta_out[i]) / len(w_delta_out[i])))\n",
    "        self.b_out = self.b_out - (self.l_rate * (sum(b_delta_out) / len(b_delta_out)))\n",
    "        \n",
    "        # why are my gradient exploding after a while? read le book"
   ]
  },
  {
   "cell_type": "code",
   "execution_count": 98,
   "id": "12df92fe",
   "metadata": {},
   "outputs": [],
   "source": [
    "diabetes = load_diabetes()\n",
    "X = diabetes.data[:, (1,2)]\n",
    "y = diabetes.target\n",
    "\n",
    "scaler = MinMaxScaler()  # because output is sigmoid\n",
    "y = scaler.fit_transform(y.reshape(-1, 1))\n",
    "y = y.reshape(-1)\n",
    "\n",
    "X_train, X_test, y_train, y_test = train_test_split(X, y)\n",
    "\n",
    "scaler = StandardScaler()\n",
    "scaler.fit(X_train)\n",
    "X_train = scaler.transform(X_train)\n",
    "X_test = scaler.transform(X_test)"
   ]
  },
  {
   "cell_type": "code",
   "execution_count": 99,
   "id": "3292e4a3",
   "metadata": {},
   "outputs": [
    {
     "name": "stdout",
     "output_type": "stream",
     "text": [
      "16.48293656346961\n",
      "12.67279912219307\n",
      "9.643782396149197\n",
      "7.6396136368677645\n",
      "6.727906741038882\n",
      "6.801999280996364\n",
      "7.642497150062083\n",
      "8.995626272330364\n",
      "10.632513636494656\n",
      "12.377404998217253\n"
     ]
    }
   ],
   "source": [
    "model = BackPropagatingPerceptron()\n",
    "for epoch in range(0, 100):\n",
    "    if epoch % 10 == 0:\n",
    "        print(model.forward_pass(X_train, y_train))\n",
    "    model.forward_pass(X_train, y_train)\n",
    "    model.backwards_pass(X_train, y_train)"
   ]
  },
  {
   "cell_type": "code",
   "execution_count": 107,
   "id": "abfc4028",
   "metadata": {},
   "outputs": [],
   "source": [
    "import random\n",
    "\n",
    "class MultiLayerPerceptron:\n",
    "    def __init__(self):\n",
    "        self.layer_out = Layer(n_nodes = 1)\n",
    "    \n",
    "    def forward_pass(self, X, y):\n",
    "        cost_out = []\n",
    "        for i in range(X.shape[0]):\n",
    "            output = self.layer_out.forward_pass(X[i, :])\n",
    "            cost = half_mse(output, y[i])\n",
    "            cost_out.append(cost)\n",
    "        return sum(cost_out)\n",
    "            \n",
    "\n",
    "class Layer:\n",
    "    def __init__(self, n_nodes):\n",
    "        self.nodes = []\n",
    "        for i in range(n_nodes):\n",
    "            self.nodes.append(Node(2))\n",
    "    \n",
    "    def forward_pass(self, x):\n",
    "        outputs = []\n",
    "        for node in self.nodes:\n",
    "            outputs.append(node.forward_pass(x))\n",
    "        return outputs\n",
    "        \n",
    "class Node:\n",
    "    def __init__(self, n_inputs):\n",
    "        self.outputs = []\n",
    "        self.weights = []\n",
    "#         self.w_deltas = []\n",
    "        self.bias = random.random()\n",
    "#         self.b_delta = 0\n",
    "        self.l_rate = 0.5\n",
    "         \n",
    "        for i in range(n_inputs):\n",
    "            self.weights.append(random.random())\n",
    "    \n",
    "    def forward_pass(self, x):  # forward individually\n",
    "        z_sum = 0\n",
    "        for i in range(len(self.weights)):\n",
    "            z_sum += self.weights[i] * x[i]\n",
    "        z_sum += self.bias\n",
    "        out = sigmoid(z_sum)\n",
    "        self.outputs.append(out) \n",
    "        return out\n",
    "    \n",
    "    def backwards_pass(self, X, delta_outs):   # backwards all at once?\n",
    "        w_delta_matrix = [[] for i in range(len(self.weights))]\n",
    "        b_delta_array = []\n",
    "        for i in range(0, X.shape[0]):\n",
    "            for j in range(len(self.weights)):\n",
    "                weight_component = (self.outputs[i]*(1-self.outputs[i])) * X[i, j]\n",
    "                delta_sum = 0\n",
    "                for k in range(delta_outs):\n",
    "                    delta_sum += delta_outs[k] * weight_component\n",
    "                w_delta_matrix[j].append(delta_sum)\n",
    "            b_delta_matrix.append(self.outputs[i]*(1-self.outputs[i]))\n",
    "        \n",
    "        for i in range(len(w_delta_matrix)):\n",
    "            self.weights[i] = self.weights[i] - (self.l_rate * (sum(w_delta_matrix[i] / len(w_delta_matrix[i]))))\n",
    "        self.bias = self.bias - (self.l_rate * (sum(b_delta_array / len(b_delta_array))))"
   ]
  },
  {
   "cell_type": "code",
   "execution_count": 115,
   "id": "d8016c55",
   "metadata": {},
   "outputs": [
    {
     "name": "stdout",
     "output_type": "stream",
     "text": [
      "[14.70187075]\n",
      "[0.2679330427008332, 0.6409584001807436, 0.5666026782316699, 0.7383959697265327, 0.6109369062038883, 0.8290164509681348, 0.6819559255561027, 0.5823872604369998, 0.5912731072117151, 0.6976378300059309, 0.4323818454049091, 0.3373139825954124, 0.9059719237823172, 0.4982825727040725, 0.7722213591998067, 0.6617607673787347, 0.9557105858400535, 0.8183744950468672, 0.7166082178130568, 0.7833802392973794, 0.7239916409701871, 0.606572461014682, 0.4686559502060826, 0.4640954814948664, 0.6859171265709004, 0.6282114814545476, 0.21137489157160558, 0.7754285345228712, 0.6367304804893156, 0.2825525064006844, 0.6976378300059309, 0.3880803467293869, 0.8072242078223222, 0.4323818454049091, 0.8113980975549333, 0.7367076973342339, 0.6679834544822926, 0.6598057844039285, 0.25034760508521037, 0.7419202430089896, 0.4640954814948664, 0.23028396034365137, 0.5575818054721459, 0.7383959697265327, 0.7276383890673288, 0.8223600917506466, 0.5868372535701334, 0.24017252505573242, 0.5599493993000064, 0.6451645349378138, 0.6535093317903221, 0.47779185400016194, 0.3131924293557853, 0.5327050977919883, 0.5554291993701114, 0.6473598569002396, 0.5575818054721459, 0.6859171265709004, 0.6473598569002396, 0.6996596370761514, 0.8464398486403105, 0.7128720604071463, 0.4234102155101576, 0.5599493993000064, 0.584506980346799, 0.3291710071818492, 0.677968221090148, 0.23028396034365137, 0.5779238107318879, 0.345554632841992, 0.677968221090148, 0.509844493280573, 0.5463619590087389, 0.3968185742655764, 0.4300265384051639, 0.6739544224877613, 0.6556805791323891, 0.3373139825954124, 0.22705188139638435, 0.3497103870739963, 0.8568007181611832, 0.7014892100440385, 0.6367304804893156, 0.9635008036336137, 0.25380241058015024, 0.6218728096331054, 0.8057254358683915, 0.5689593162149397, 0.4595410097530948, 0.8451874932753144, 0.4323818454049091, 0.9293625056660507, 0.4368847326468005, 0.4012128849369985, 0.18796971536760457, 0.8909508933105028, 0.6021909360609674, 0.6282114814545476, 0.6996596370761514, 0.747231500923961, 0.6261721276057982, 0.5823872604369998, 0.2976453362883468, 0.5977929707757345, 0.7348407700897681, 0.632481321485721, 0.7259064626452336, 0.7276383890673288, 0.8666745810993313, 0.8918804035340774, 0.6367304804893156, 0.7540908606930306, 0.5912731072117151, 0.7657106035212068, 0.2976453362883468, 0.6639069002165646, 0.392440849179792, 0.7222453770284135, 0.2976453362883468, 0.6598057844039285, 0.45045305774597333, 0.5006833272129012, 0.6937584523532068, 0.5620973742542131, 0.36009752275528495, 0.2572885294589608, 0.8655610389931236, 0.7523057504647631, 0.2976453362883468, 0.632481321485721, 0.6021909360609674, 0.9105516714044016, 0.31714759265485526, 0.505264352116805, 0.6431653519783609, 0.6919023079044658, 0.3708229209285818, 0.5074444538133394, 0.7419202430089896, 0.6021909360609674, 0.849922518902796, 0.7312548399751742, 0.8475700847793524, 0.24692426518767513, 0.8978710760994784, 0.35388909409111646, 0.2679330427008332, 0.3014903492813977, 0.840331140352184, 0.7754285345228712, 0.33323005261314664, 0.7222453770284135, 0.7848566372879168, 0.23684436375538875, 0.23028396034365137, 0.6021909360609674, 0.6720349889478199, 0.5006833272129012, 0.5439807965761113, 0.875870405302375, 0.5554291993701114, 0.36231328668934926, 0.8057254358683915, 0.41448880569613994, 0.5463619590087389, 0.470828418908954, 0.2862820193631555, 0.954133110267988, 0.392440849179792, 0.20235623662913818, 0.8113980975549333, 0.9269183407768682, 0.2900408585541808, 0.7203148333076541, 0.7786034988518825, 0.23684436375538875, 0.2572885294589608, 0.37510838233510313, 0.38373769320199225, 0.6088617937375583, 0.18796971536760457, 0.8738643372014754, 0.45045305774597333, 0.7185543498954574, 0.6431653519783609, 0.3291710071818492, 0.6658502510117144, 0.8778490284998492, 0.39890804258271845, 0.3794135038005805, 0.7523057504647631, 0.8113980975549333, 0.47996841749902247, 0.7879347614888397, 0.7148336397232686, 0.7909805744428874, 0.7590718088580468, 0.5508998077267444, 0.4368847326468005, 0.5666026782316699, 0.5394314843800345, 0.584506980346799, 0.6739544224877613, 0.6679834544822926, 0.8798004407494313, 0.606572461014682, 0.5689593162149397, 0.6840351009814907, 0.3014903492813977, 0.6021909360609674, 0.634710683833167, 0.48694264008677846, 0.23684436375538875, 0.24692426518767513, 0.9204636716353305, 0.42789010304543956, 0.7073042753312616, 0.38373769320199225, 0.6699149532563488, 0.7523057504647631, 0.23354814626602174, 0.7985246852430244, 0.17972210201841532, 0.5710969986025454, 0.22385197268171833, 0.6389487813237351, 0.8328162269725392, 0.7657106035212068, 0.44139804755102824, 0.3968185742655764, 0.2643540314665398, 0.6304516111842463, 0.634710683833167, 0.6239215311052356, 0.8836225811483408, 0.6658502510117144, 0.6898514290818935, 0.2572885294589608, 0.5644596789359003, 0.7239916409701871, 0.5755796237438954, 0.7128720604071463, 0.6898514290818935, 0.5599493993000064, 0.8961784167864862, 0.7689820268716986, 0.2608057961272245, 0.8961784167864862, 0.44592106606285126, 0.600099710051449, 0.5348755931569046, 0.8697689447006837, 0.7014892100440385, 0.9346149104224919, 0.9384012931110225, 0.41004866305951027, 0.606572461014682, 0.345554632841992, 0.8169427540955718, 0.7383959697265327, 0.38373769320199225, 0.4368847326468005, 0.6617607673787347, 0.6919023079044658, 0.3251372947736282, 0.6473598569002396, 0.7817462099836971, 0.25380241058015024, 0.7128720604071463, 0.2206842855099158, 0.6515317701875721, 0.2206842855099158, 0.21754885945302888, 0.3794135038005805, 0.27885259661852224, 0.7437547066357554, 0.6431653519783609, 0.6132170366042317, 0.8676791672011319, 0.5666026782316699, 0.7128720604071463, 0.6760610593163292, 0.509844493280573, 0.7641423013044231, 0.7014892100440385, 0.7185543498954574, 0.2900408585541808, 0.2976453362883468, 0.6859171265709004, 0.6239215311052356, 0.7657106035212068, 0.7091066412642574, 0.6282114814545476, 0.6840351009814907, 0.5348755931569046, 0.6088617937375583, 0.7557046312660871, 0.7276383890673288, 0.5956941475071009, 0.6996596370761514, 0.2206842855099158, 0.548522781912825, 0.2572885294589608, 0.33323005261314664, 0.9043992304207079, 0.47779185400016194, 0.24353252987229743, 0.9011831404726457, 0.3968185742655764, 0.42789010304543956, 0.3251372947736282, 0.48912184475092996, 0.8183744950468672, 0.5281408717974021, 0.8183744950468672, 0.6898514290818935, 0.7239916409701871, 0.7574731428539244, 0.23354814626602174, 0.40772762472178325, 0.3131924293557853, 0.7073042753312616, 0.4982825727040725, 0.6576469678768586, 0.6021909360609674, 0.31714759265485526, 0.978986530288917, 0.4982825727040725, 0.892718577229002, 0.6937584523532068, 0.7590718088580468]\n"
     ]
    }
   ],
   "source": [
    "model = MultiLayerPerceptron()\n",
    "for epoch in range(0, 1):\n",
    "    print(model.forward_pass(X_train, y_train))\n",
    "    print(model.layer_out.nodes[0].outputs)"
   ]
  },
  {
   "cell_type": "code",
   "execution_count": null,
   "id": "3f4eaed8",
   "metadata": {},
   "outputs": [],
   "source": []
  }
 ],
 "metadata": {
  "kernelspec": {
   "display_name": "Python 3 (ipykernel)",
   "language": "python",
   "name": "python3"
  },
  "language_info": {
   "codemirror_mode": {
    "name": "ipython",
    "version": 3
   },
   "file_extension": ".py",
   "mimetype": "text/x-python",
   "name": "python",
   "nbconvert_exporter": "python",
   "pygments_lexer": "ipython3",
   "version": "3.10.6"
  }
 },
 "nbformat": 4,
 "nbformat_minor": 5
}
