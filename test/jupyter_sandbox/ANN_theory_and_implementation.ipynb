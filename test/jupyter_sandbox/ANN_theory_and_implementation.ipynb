{
 "cells": [
  {
   "cell_type": "code",
   "execution_count": 84,
   "id": "dc78120e",
   "metadata": {},
   "outputs": [],
   "source": [
    "import numpy as np\n",
    "import random\n",
    "from sklearn.datasets import load_iris\n",
    "from sklearn.datasets import load_diabetes\n",
    "from sklearn.linear_model import Perceptron\n",
    "from sklearn.model_selection import train_test_split\n",
    "from sklearn.preprocessing import MinMaxScaler\n",
    "from sklearn.preprocessing import StandardScaler"
   ]
  },
  {
   "cell_type": "markdown",
   "id": "347d1c10",
   "metadata": {},
   "source": [
    "## Simple perceptron w/sklearn API + Iris classification"
   ]
  },
  {
   "cell_type": "code",
   "execution_count": 85,
   "id": "a15392e2",
   "metadata": {},
   "outputs": [],
   "source": [
    "iris = load_iris()\n",
    "X = iris.data[:, (2,3)] # only petal length and width\n",
    "y = (iris.target == 0).astype(int)  # make binary \"is it a setosa?\"\n",
    "\n",
    "X_train, X_test, y_train, y_test = train_test_split(X, y)"
   ]
  },
  {
   "cell_type": "code",
   "execution_count": 86,
   "id": "30b1c352",
   "metadata": {},
   "outputs": [
    {
     "data": {
      "text/html": [
       "<style>#sk-container-id-5 {color: black;background-color: white;}#sk-container-id-5 pre{padding: 0;}#sk-container-id-5 div.sk-toggleable {background-color: white;}#sk-container-id-5 label.sk-toggleable__label {cursor: pointer;display: block;width: 100%;margin-bottom: 0;padding: 0.3em;box-sizing: border-box;text-align: center;}#sk-container-id-5 label.sk-toggleable__label-arrow:before {content: \"▸\";float: left;margin-right: 0.25em;color: #696969;}#sk-container-id-5 label.sk-toggleable__label-arrow:hover:before {color: black;}#sk-container-id-5 div.sk-estimator:hover label.sk-toggleable__label-arrow:before {color: black;}#sk-container-id-5 div.sk-toggleable__content {max-height: 0;max-width: 0;overflow: hidden;text-align: left;background-color: #f0f8ff;}#sk-container-id-5 div.sk-toggleable__content pre {margin: 0.2em;color: black;border-radius: 0.25em;background-color: #f0f8ff;}#sk-container-id-5 input.sk-toggleable__control:checked~div.sk-toggleable__content {max-height: 200px;max-width: 100%;overflow: auto;}#sk-container-id-5 input.sk-toggleable__control:checked~label.sk-toggleable__label-arrow:before {content: \"▾\";}#sk-container-id-5 div.sk-estimator input.sk-toggleable__control:checked~label.sk-toggleable__label {background-color: #d4ebff;}#sk-container-id-5 div.sk-label input.sk-toggleable__control:checked~label.sk-toggleable__label {background-color: #d4ebff;}#sk-container-id-5 input.sk-hidden--visually {border: 0;clip: rect(1px 1px 1px 1px);clip: rect(1px, 1px, 1px, 1px);height: 1px;margin: -1px;overflow: hidden;padding: 0;position: absolute;width: 1px;}#sk-container-id-5 div.sk-estimator {font-family: monospace;background-color: #f0f8ff;border: 1px dotted black;border-radius: 0.25em;box-sizing: border-box;margin-bottom: 0.5em;}#sk-container-id-5 div.sk-estimator:hover {background-color: #d4ebff;}#sk-container-id-5 div.sk-parallel-item::after {content: \"\";width: 100%;border-bottom: 1px solid gray;flex-grow: 1;}#sk-container-id-5 div.sk-label:hover label.sk-toggleable__label {background-color: #d4ebff;}#sk-container-id-5 div.sk-serial::before {content: \"\";position: absolute;border-left: 1px solid gray;box-sizing: border-box;top: 0;bottom: 0;left: 50%;z-index: 0;}#sk-container-id-5 div.sk-serial {display: flex;flex-direction: column;align-items: center;background-color: white;padding-right: 0.2em;padding-left: 0.2em;position: relative;}#sk-container-id-5 div.sk-item {position: relative;z-index: 1;}#sk-container-id-5 div.sk-parallel {display: flex;align-items: stretch;justify-content: center;background-color: white;position: relative;}#sk-container-id-5 div.sk-item::before, #sk-container-id-5 div.sk-parallel-item::before {content: \"\";position: absolute;border-left: 1px solid gray;box-sizing: border-box;top: 0;bottom: 0;left: 50%;z-index: -1;}#sk-container-id-5 div.sk-parallel-item {display: flex;flex-direction: column;z-index: 1;position: relative;background-color: white;}#sk-container-id-5 div.sk-parallel-item:first-child::after {align-self: flex-end;width: 50%;}#sk-container-id-5 div.sk-parallel-item:last-child::after {align-self: flex-start;width: 50%;}#sk-container-id-5 div.sk-parallel-item:only-child::after {width: 0;}#sk-container-id-5 div.sk-dashed-wrapped {border: 1px dashed gray;margin: 0 0.4em 0.5em 0.4em;box-sizing: border-box;padding-bottom: 0.4em;background-color: white;}#sk-container-id-5 div.sk-label label {font-family: monospace;font-weight: bold;display: inline-block;line-height: 1.2em;}#sk-container-id-5 div.sk-label-container {text-align: center;}#sk-container-id-5 div.sk-container {/* jupyter's `normalize.less` sets `[hidden] { display: none; }` but bootstrap.min.css set `[hidden] { display: none !important; }` so we also need the `!important` here to be able to override the default hidden behavior on the sphinx rendered scikit-learn.org. See: https://github.com/scikit-learn/scikit-learn/issues/21755 */display: inline-block !important;position: relative;}#sk-container-id-5 div.sk-text-repr-fallback {display: none;}</style><div id=\"sk-container-id-5\" class=\"sk-top-container\"><div class=\"sk-text-repr-fallback\"><pre>Perceptron()</pre><b>In a Jupyter environment, please rerun this cell to show the HTML representation or trust the notebook. <br />On GitHub, the HTML representation is unable to render, please try loading this page with nbviewer.org.</b></div><div class=\"sk-container\" hidden><div class=\"sk-item\"><div class=\"sk-estimator sk-toggleable\"><input class=\"sk-toggleable__control sk-hidden--visually\" id=\"sk-estimator-id-5\" type=\"checkbox\" checked><label for=\"sk-estimator-id-5\" class=\"sk-toggleable__label sk-toggleable__label-arrow\">Perceptron</label><div class=\"sk-toggleable__content\"><pre>Perceptron()</pre></div></div></div></div></div>"
      ],
      "text/plain": [
       "Perceptron()"
      ]
     },
     "execution_count": 86,
     "metadata": {},
     "output_type": "execute_result"
    }
   ],
   "source": [
    "perceptron = Perceptron()\n",
    "perceptron.fit(X_train, y_train)"
   ]
  },
  {
   "cell_type": "code",
   "execution_count": 87,
   "id": "edc4ff84",
   "metadata": {},
   "outputs": [
    {
     "name": "stdout",
     "output_type": "stream",
     "text": [
      "0.9736842105263158\n"
     ]
    }
   ],
   "source": [
    "print(perceptron.score(X_test, y_test)) # given petal length of 2 and width of 0.5, is it a setosa?"
   ]
  },
  {
   "cell_type": "markdown",
   "id": "03dcf22b",
   "metadata": {},
   "source": [
    "## Simple perceptron from scratch w/Iris classification"
   ]
  },
  {
   "cell_type": "markdown",
   "id": "7863820e",
   "metadata": {},
   "source": [
    "A single neuron/node with:\n",
    "- 2 inputs (petal length and width) and 2 input weights\n",
    "- 1 bias input (always inputs 1) and 1 bias weight\n",
    "- 1 binary output (1 == \"is setosa\", 0 == \"is not setosa\")\n",
    "\n",
    "Learning process:\n",
    "- For each input instance in training set:\n",
    "    - multiply each input feature (petal length and width) by its weight, and multiply the bias by its weight\n",
    "    - Sum the results\n",
    "    - If greater than or equal to 0, output 1, else output 0\n",
    "    - Calculate error by minusing the output from the target output. \n",
    "    - For each weight:\n",
    "        - Add the ((error * learning rate) * input) to the weight\n",
    "        - e.g. if the weight was 0.5, the input was -0.7, the output was 1 and the target output was 0, that's an error of -1, 0.05 * -1 * -0.7 = 0.035, so new weight is 0.535. If you got the same input again you've amplified the negative input which will result in a sum of weights * inputs closer to being less than 0, resulting in an output of 0, the target.\n",
    "        - e.g. if the weight was 0.5, the input was 0.7, the output 1 and the target output was 0, that's error of -1, 0.05 * -1 * 0.7 = -0.035, so the new weight is 0.465. If you got the same input again, you've supressed the positive input which will result in a sum of weights * inputs closer to being less than 0, resulting in an output of 0, the target.\n",
    "       \n"
   ]
  },
  {
   "cell_type": "code",
   "execution_count": 88,
   "id": "ea7f080b",
   "metadata": {},
   "outputs": [],
   "source": [
    "class MyPerceptron:\n",
    "    def __init__(self):   \n",
    "        self.input_weights = [0.5, 0.5]\n",
    "        self.bias_weight = 0.5\n",
    "        self.learning_rate = 0.05\n",
    "    \n",
    "    def fit(self, X, y):\n",
    "        for i in range(0, X.shape[0]):\n",
    "            output = self.predict(X[i, :])\n",
    "            error = y[i] - output\n",
    "            for j in range(0, len(self.input_weights)):\n",
    "                self.input_weights[j] = self.input_weights[j] + ((self.learning_rate * error) * X[i, j])\n",
    "            self.bias_weight = self.bias_weight + ((self.learning_rate * error) * 1)\n",
    "            \n",
    "    def predict(self, x):\n",
    "        product = 0\n",
    "        for input_val, weight in zip(x, self.input_weights):\n",
    "            product += input_val * weight\n",
    "        product += 1 * self.bias_weight\n",
    "        return int(product >= 0) # simple heaviside step function\n",
    "    \n",
    "    def score(self, X, y):\n",
    "        error = y.shape[0]\n",
    "        for i in range(0, X.shape[0]):\n",
    "            output = self.predict(X[i, :])\n",
    "            error -= abs(y[i] - output)\n",
    "        return f\"{error}/{y.shape[0]}\""
   ]
  },
  {
   "cell_type": "code",
   "execution_count": 89,
   "id": "2ce6ac4c",
   "metadata": {},
   "outputs": [
    {
     "name": "stdout",
     "output_type": "stream",
     "text": [
      "[0.5, 0.5]\n",
      "14/38\n",
      "[-0.22499999999999998, 0.26499999999999996]\n",
      "37/38\n"
     ]
    }
   ],
   "source": [
    "model = MyPerceptron()\n",
    "print(model.input_weights)\n",
    "print(model.score(X_test,y_test))\n",
    "model.fit(X_train, y_train)\n",
    "print(model.input_weights)\n",
    "print(model.score(X_test,y_test))"
   ]
  },
  {
   "cell_type": "markdown",
   "id": "0597a7d0",
   "metadata": {},
   "source": [
    "## Simple perceptron continuous output using backpropagation"
   ]
  },
  {
   "cell_type": "code",
   "execution_count": 90,
   "id": "a4a0d055",
   "metadata": {},
   "outputs": [],
   "source": [
    "import math\n",
    "\n",
    "def sigmoid(z):\n",
    "    return 1 / (1 + math.exp(-z))\n",
    "\n",
    "def half_mse(a, y):\n",
    "    return 0.5 * ((a - y)**2)   # half MSE is nicer derivative than MSE\n",
    "\n",
    "\n",
    "class BackPropagatingPerceptron:\n",
    "    def __init__(self):\n",
    "        self.a_out = []   # output after sigmoid - is a matrix because storing output from multiple input instances\n",
    "        #self.z_out = []   # doesn't need storing for backprop\n",
    "        self.w_out = [0.5, 0.5]\n",
    "        self.b_out = 0.5\n",
    "        \n",
    "        self.l_rate = 0.5\n",
    "    \n",
    "    def forward_pass(self, X, y):\n",
    "        cost_out = []\n",
    "        for i in range(0, X.shape[0]):\n",
    "            z_out = 0\n",
    "            for j in range(0, len(self.w_out)):\n",
    "                z_out += self.w_out[j] * X[i, j]\n",
    "            z_out += self.b_out\n",
    "            squished = sigmoid(z_out)\n",
    "            self.a_out.append(squished) # matrix cus for hidden layers it'd be multiple outputs per input instance\n",
    "            cost = half_mse(squished, y[i])\n",
    "            cost_out.append(cost)\n",
    "        return sum(cost_out)\n",
    "    \n",
    "    def backwards_pass(self, X, y):\n",
    "        w_delta_out = [[],[]] # 1 gradient per weight per input instance\n",
    "        b_delta_out = [] # 1 gradient per input instance\n",
    "        for i in range(0, X.shape[0]): # i = instance\n",
    "            for j in range(0, len(self.w_out)): # j = weight\n",
    "                print(-(y[i] - self.a_out[i]))\n",
    "                w_delta_out[j].append((-(y[i] - self.a_out[i])) * (self.a_out[i]*(1-self.a_out[i])) * X[i, j])  \n",
    "            b_delta_out.append((-(y[i] - self.a_out[i])) * (self.a_out[i]*(1-self.a_out[i])) * 1)\n",
    "        \n",
    "        for i in range(0, len(w_delta_out)):\n",
    "            self.w_out[i] = self.w_out[i] - (self.l_rate * (sum(w_delta_out[i]) / len(w_delta_out[i])))\n",
    "        self.b_out = self.b_out - (self.l_rate * (sum(b_delta_out) / len(b_delta_out)))\n",
    "        \n",
    "        # why are my gradient exploding after a while? read le book"
   ]
  },
  {
   "cell_type": "code",
   "execution_count": 91,
   "id": "12df92fe",
   "metadata": {},
   "outputs": [],
   "source": [
    "diabetes = load_diabetes()\n",
    "X = diabetes.data[:, (0,3)]\n",
    "y = diabetes.target\n",
    "X = X.astype(\"float32\")\n",
    "y = y.astype(\"float32\")\n",
    "\n",
    "scaler = MinMaxScaler()  # because output is sigmoid\n",
    "y = scaler.fit_transform(y.reshape(-1, 1))\n",
    "y = y.reshape(-1)\n",
    "\n",
    "X_train, X_test, y_train, y_test = train_test_split(X, y)\n",
    "\n",
    "scaler = StandardScaler()\n",
    "scaler.fit(X_train)\n",
    "X_train = scaler.transform(X_train)\n",
    "X_test = scaler.transform(X_test)\n",
    "\n",
    "\n",
    "np.savetxt(\"X_train.csv\", X_train, delimiter = ',', fmt = \"%f\")\n",
    "np.savetxt(\"X_test.csv\", X_test, delimiter = ',', fmt = \"%f\")\n",
    "np.savetxt(\"y_train.csv\", y_train, delimiter = ',', fmt = \"%f\")\n",
    "np.savetxt(\"y_test.csv\", y_test, delimiter = ',', fmt = \"%f\")"
   ]
  },
  {
   "cell_type": "code",
   "execution_count": 92,
   "id": "3292e4a3",
   "metadata": {},
   "outputs": [],
   "source": [
    "# model = BackPropagatingPerceptron()\n",
    "# for epoch in range(0, 1):\n",
    "#     if epoch % 10 == 0:\n",
    "#         print(model.forward_pass(X_train, y_train))\n",
    "#     model.forward_pass(X_train, y_train)\n",
    "#     model.backwards_pass(X_train, y_train)"
   ]
  },
  {
   "cell_type": "markdown",
   "id": "1418e97e",
   "metadata": {},
   "source": [
    "## Backpropagating Single Node / Perceptron  w/ batch gradient descent"
   ]
  },
  {
   "cell_type": "code",
   "execution_count": 93,
   "id": "abfc4028",
   "metadata": {},
   "outputs": [],
   "source": [
    "\n",
    "# class MultiLayerPerceptron:\n",
    "#     def __init__(self):\n",
    "#         self.layer_out = Layer(n_nodes = 1)\n",
    "    \n",
    "#     def forward_pass(self, X, y):\n",
    "#         output = self.layer_out.forward_pass(X)\n",
    "#         cost_out = []\n",
    "#         for i in range(X.shape[0]):\n",
    "#             cost = half_mse(output[0][i], y[i])\n",
    "#             cost_out.append(cost)\n",
    "#         return sum(cost_out)\n",
    "    \n",
    "#     def backwards_pass(self, X, y):\n",
    "#         cost_delta = []\n",
    "#         for i in range(X.shape[0]):\n",
    "#             cost_delta.append(-(y[i] - self.layer_out.nodes[0].outputs[i]))\n",
    "#         z_delta_next = [[cost_delta]] # [prev_node_1[curr_node1_deltas[instances], curr_node2_delta[instance]], prev_node_2...]\n",
    "            \n",
    "#         self.layer_out.backwards_pass(X, z_delta_next)\n",
    "            \n",
    "\n",
    "# class Layer:\n",
    "#     def __init__(self, n_nodes):\n",
    "#         self.nodes = []\n",
    "#         for i in range(n_nodes):\n",
    "#             self.nodes.append(Node(2))\n",
    "    \n",
    "#     def forward_pass(self, X):\n",
    "#         outputs = []\n",
    "#         for i in range(len(self.nodes)):\n",
    "#             outputs.append(self.nodes[i].forward_pass(X))\n",
    "#         return outputs\n",
    "    \n",
    "#     def backwards_pass(self, X, z_delta_next):\n",
    "#         for i in range(len(self.nodes)):\n",
    "#             self.nodes[i].backwards_pass(X, z_delta_next[i])\n",
    "        \n",
    "# class Node:\n",
    "#     def __init__(self, n_inputs):\n",
    "#         self.outputs = []\n",
    "#         self.weights = []\n",
    "#         self.bias = 0.5 #random.random()\n",
    "#         self.l_rate = 0.5\n",
    "         \n",
    "#         for i in range(n_inputs):\n",
    "#             self.weights.append(0.5)\n",
    "    \n",
    "#     def forward_pass(self, X):\n",
    "#         self.outputs = []\n",
    "#         out = []\n",
    "#         for i in range(X.shape[0]):\n",
    "#             z_sum = 0\n",
    "#             for j in range(len(self.weights)):\n",
    "#                 z_sum += self.weights[j] * X[i, j]\n",
    "#             z_sum += self.bias\n",
    "#             self.outputs.append(sigmoid(z_sum))\n",
    "#         return self.outputs\n",
    "    \n",
    "#     def backwards_pass(self, X, z_delta_next):\n",
    "#         w_delta_matrix = [[] for i in range(len(self.weights))]\n",
    "#         b_delta_array = []\n",
    "#         for i in range(0, X.shape[0]):\n",
    "#             z_delta = self.outputs[i]*(1-self.outputs[i])\n",
    "#             for j in range(len(self.weights)):\n",
    "#                 part_w_delta = z_delta * X[i, j]\n",
    "#                 full_w_delta = 0\n",
    "#                 for k in range(len(z_delta_next)):\n",
    "#                     full_w_delta += z_delta_next[k][i] * part_w_delta\n",
    "#                 w_delta_matrix[j].append(full_w_delta)\n",
    "#             b_delta_array.append(self.outputs[i]*(1-self.outputs[i]))\n",
    "        \n",
    "#         for i in range(len(w_delta_matrix)):\n",
    "#             self.weights[i] = self.weights[i] - (self.l_rate * (sum(w_delta_matrix[i]) / len(w_delta_matrix[i])))\n",
    "#         self.bias = self.bias - (self.l_rate * (sum(b_delta_array) / len(b_delta_array)))\n",
    "        \n",
    "        \n",
    "# # return z_delta * the weights\n",
    "\n",
    "# # once I sort the input into backwards_pass() and output of backward_pass()... it should work with any number of\n",
    "# # layers and nodes?\n",
    "\n",
    "# # the thing that's making this confusing is having to keep track of the instances in the main backprop code...\n",
    "# # could that loop be moved elsewhere somehow?\n",
    "\n",
    "# # I need to add to a z_delta_next for each node in prevous layer during backprop\n",
    "# # For each node in previous layer, each node should add its z_delta multiplied by the weight for the prev layer node"
   ]
  },
  {
   "cell_type": "code",
   "execution_count": 94,
   "id": "d8016c55",
   "metadata": {
    "scrolled": false
   },
   "outputs": [],
   "source": [
    "# model = MultiLayerPerceptron()\n",
    "\n",
    "# for epoch in range(0, 30):\n",
    "#     print(model.forward_pass(X_train, y_train))\n",
    "#     model.backwards_pass(X_train, y_train)\n",
    "#     print(model.layer_out.nodes[0].weights)"
   ]
  },
  {
   "cell_type": "markdown",
   "id": "c8a8f0d6",
   "metadata": {},
   "source": [
    "## Backpropagating 2-3-3-1 MultiLayerPerceptron without batch gradient descent"
   ]
  },
  {
   "cell_type": "code",
   "execution_count": 95,
   "id": "819f565f",
   "metadata": {},
   "outputs": [],
   "source": [
    "class MLP:\n",
    "    def __init__(self):\n",
    "        self.layer_h1 = Layer(n_nodes = 3, n_inputs = 2)\n",
    "        self.layer_h2 = Layer(n_nodes = 3, n_inputs = 3)\n",
    "        self.layer_o = Layer(n_nodes = 1, n_inputs = 3)\n",
    "        \n",
    "        self.costs = []\n",
    "    \n",
    "    def forward_pass(self, x, y):\n",
    "        output = self.layer_h1.forward_pass(x)\n",
    "        output = self.layer_h2.forward_pass(output)\n",
    "        output = self.layer_o.forward_pass(output)\n",
    "        cost = half_mse(output[0], y)\n",
    "        self.costs.append(cost)\n",
    "    \n",
    "    def get_cost(self):\n",
    "        total_cost = sum(self.costs)\n",
    "        self.costs = []\n",
    "        return total_cost\n",
    "    \n",
    "    def backwards_pass(self, x, y):\n",
    "        out_output_grads = [[-(y - self.layer_o.prev_outputs[0])]]\n",
    "        h2_output_grads = self.layer_o.backwards_pass(self.layer_h2.prev_outputs, out_output_grads)\n",
    "        h1_output_grads = self.layer_h2.backwards_pass(self.layer_h1.prev_outputs, h2_output_grads)\n",
    "        _ = self.layer_h1.backwards_pass(x, h1_output_grads)\n",
    "        \n",
    "        \n",
    "\n",
    "class Layer:\n",
    "    def __init__(self, n_nodes, n_inputs):\n",
    "        self.nodes = []\n",
    "        self.prev_outputs = []\n",
    "        for i in range(n_nodes):\n",
    "            self.nodes.append(Node(n_inputs))\n",
    "    \n",
    "    def forward_pass(self, inputs):\n",
    "        self.prev_outputs = []\n",
    "        for node in self.nodes:\n",
    "            self.prev_outputs.append(node.forward_pass(inputs))\n",
    "        return self.prev_outputs\n",
    "    \n",
    "    def backwards_pass(self, inputs, output_grad_matrix):\n",
    "        input_grad_matrix = [[] for i in range(len(inputs))]\n",
    "        for i in range(len(self.nodes)):\n",
    "            input_grads = self.nodes[i].backwards_pass(inputs, output_grad_matrix[i])\n",
    "            for j in range(len(input_grads)):\n",
    "                input_grad_matrix[j].append(input_grads[j]) # this could be a transpose operation\n",
    "        return input_grad_matrix\n",
    "              \n",
    "    \n",
    "class Node:\n",
    "    def __init__(self, n_inputs):\n",
    "        self.prev_output = None\n",
    "        self.l_rate = 0.001\n",
    "        self.bias = random.random()\n",
    "        self.weights = []\n",
    "        for _ in range(n_inputs):\n",
    "            self.weights.append(random.random())\n",
    "    \n",
    "    def forward_pass(self, inputs):\n",
    "            z_sum = 0\n",
    "            for i in range(len(self.weights)):\n",
    "                z_sum += self.weights[i] * inputs[i]\n",
    "            z_sum += self.bias\n",
    "            output = sigmoid(z_sum)\n",
    "            self.prev_output = output\n",
    "            return output\n",
    "        \n",
    "    def backwards_pass(self, inputs, output_grads):\n",
    "        input_grads = []\n",
    "        z_grad = self.prev_output*(1-self.prev_output)\n",
    "        for i in range(len(self.weights)):\n",
    "            part_input_grad = z_grad * self.weights[i]\n",
    "            full_input_grad = 0\n",
    "            part_weight_grad = z_grad * inputs[i]\n",
    "            full_weight_grad = 0\n",
    "            for j in range(len(output_grads)):\n",
    "                full_input_grad += output_grads[j] * part_input_grad\n",
    "                full_weight_grad += output_grads[j] * part_weight_grad\n",
    "            input_grads.append(full_input_grad)   \n",
    "            self.weights[i] = self.weights[i] - (self.l_rate * full_weight_grad)\n",
    "        bias_grad = self.prev_output*(1-self.prev_output)\n",
    "        self.bias = self.bias - (self.l_rate * bias_grad)\n",
    "        return input_grads     "
   ]
  },
  {
   "cell_type": "code",
   "execution_count": 96,
   "id": "0a782170",
   "metadata": {},
   "outputs": [
    {
     "name": "stdout",
     "output_type": "stream",
     "text": [
      "39.27556683665715\n",
      "37.105574177559426\n",
      "34.819384337547014\n",
      "32.43856105786877\n",
      "29.99272633150682\n",
      "27.51906502954768\n",
      "25.060778213681896\n",
      "22.664512153917556\n",
      "20.37705539850637\n",
      "18.2418250917523\n",
      "16.29575339630895\n",
      "14.567084272541118\n",
      "13.07433749964611\n",
      "11.826398189246989\n",
      "10.823461285183669\n",
      "10.058465049520555\n",
      "9.518678803931946\n",
      "9.187215454968136\n",
      "9.044357787607582\n",
      "9.068677485523056\n",
      "9.237972502336016\n",
      "9.530057733763861\n",
      "9.923431832162924\n",
      "10.397825768613453\n",
      "10.934627366079203\n",
      "11.517174475533363\n",
      "12.130916085528076\n",
      "12.763451000012653\n",
      "13.404463314122475\n",
      "14.045579919814722\n"
     ]
    }
   ],
   "source": [
    "model = MLP()\n",
    "for epoch in range(30):\n",
    "    for j in range(331):\n",
    "        model.forward_pass(X_train[j, :], y_train[j])\n",
    "        model.backwards_pass(X_train[j, :], y_train[j])\n",
    "    print(model.get_cost())"
   ]
  },
  {
   "cell_type": "code",
   "execution_count": null,
   "id": "fb4df9f5",
   "metadata": {},
   "outputs": [],
   "source": []
  }
 ],
 "metadata": {
  "kernelspec": {
   "display_name": "Python 3 (ipykernel)",
   "language": "python",
   "name": "python3"
  },
  "language_info": {
   "codemirror_mode": {
    "name": "ipython",
    "version": 3
   },
   "file_extension": ".py",
   "mimetype": "text/x-python",
   "name": "python",
   "nbconvert_exporter": "python",
   "pygments_lexer": "ipython3",
   "version": "3.10.6"
  }
 },
 "nbformat": 4,
 "nbformat_minor": 5
}
