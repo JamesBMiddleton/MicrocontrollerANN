{
 "cells": [
  {
   "cell_type": "code",
   "execution_count": 85,
   "id": "dc78120e",
   "metadata": {},
   "outputs": [],
   "source": [
    "import numpy as np\n",
    "from sklearn.datasets import load_iris\n",
    "from sklearn.linear_model import Perceptron\n",
    "from sklearn.model_selection import train_test_split"
   ]
  },
  {
   "cell_type": "markdown",
   "id": "347d1c10",
   "metadata": {},
   "source": [
    "## Simple perceptron w/sklearn API + Iris classification"
   ]
  },
  {
   "cell_type": "code",
   "execution_count": 91,
   "id": "a15392e2",
   "metadata": {},
   "outputs": [],
   "source": [
    "iris = load_iris()\n",
    "X = iris.data[:, (2,3)] # only petal length and width\n",
    "y = (iris.target == 0).astype(int)  # make binary \"is it a setosa?\"\n",
    "\n",
    "X_train, X_test, y_train, y_test = train_test_split(X, y)"
   ]
  },
  {
   "cell_type": "code",
   "execution_count": 92,
   "id": "30b1c352",
   "metadata": {},
   "outputs": [
    {
     "data": {
      "text/html": [
       "<style>#sk-container-id-4 {color: black;background-color: white;}#sk-container-id-4 pre{padding: 0;}#sk-container-id-4 div.sk-toggleable {background-color: white;}#sk-container-id-4 label.sk-toggleable__label {cursor: pointer;display: block;width: 100%;margin-bottom: 0;padding: 0.3em;box-sizing: border-box;text-align: center;}#sk-container-id-4 label.sk-toggleable__label-arrow:before {content: \"▸\";float: left;margin-right: 0.25em;color: #696969;}#sk-container-id-4 label.sk-toggleable__label-arrow:hover:before {color: black;}#sk-container-id-4 div.sk-estimator:hover label.sk-toggleable__label-arrow:before {color: black;}#sk-container-id-4 div.sk-toggleable__content {max-height: 0;max-width: 0;overflow: hidden;text-align: left;background-color: #f0f8ff;}#sk-container-id-4 div.sk-toggleable__content pre {margin: 0.2em;color: black;border-radius: 0.25em;background-color: #f0f8ff;}#sk-container-id-4 input.sk-toggleable__control:checked~div.sk-toggleable__content {max-height: 200px;max-width: 100%;overflow: auto;}#sk-container-id-4 input.sk-toggleable__control:checked~label.sk-toggleable__label-arrow:before {content: \"▾\";}#sk-container-id-4 div.sk-estimator input.sk-toggleable__control:checked~label.sk-toggleable__label {background-color: #d4ebff;}#sk-container-id-4 div.sk-label input.sk-toggleable__control:checked~label.sk-toggleable__label {background-color: #d4ebff;}#sk-container-id-4 input.sk-hidden--visually {border: 0;clip: rect(1px 1px 1px 1px);clip: rect(1px, 1px, 1px, 1px);height: 1px;margin: -1px;overflow: hidden;padding: 0;position: absolute;width: 1px;}#sk-container-id-4 div.sk-estimator {font-family: monospace;background-color: #f0f8ff;border: 1px dotted black;border-radius: 0.25em;box-sizing: border-box;margin-bottom: 0.5em;}#sk-container-id-4 div.sk-estimator:hover {background-color: #d4ebff;}#sk-container-id-4 div.sk-parallel-item::after {content: \"\";width: 100%;border-bottom: 1px solid gray;flex-grow: 1;}#sk-container-id-4 div.sk-label:hover label.sk-toggleable__label {background-color: #d4ebff;}#sk-container-id-4 div.sk-serial::before {content: \"\";position: absolute;border-left: 1px solid gray;box-sizing: border-box;top: 0;bottom: 0;left: 50%;z-index: 0;}#sk-container-id-4 div.sk-serial {display: flex;flex-direction: column;align-items: center;background-color: white;padding-right: 0.2em;padding-left: 0.2em;position: relative;}#sk-container-id-4 div.sk-item {position: relative;z-index: 1;}#sk-container-id-4 div.sk-parallel {display: flex;align-items: stretch;justify-content: center;background-color: white;position: relative;}#sk-container-id-4 div.sk-item::before, #sk-container-id-4 div.sk-parallel-item::before {content: \"\";position: absolute;border-left: 1px solid gray;box-sizing: border-box;top: 0;bottom: 0;left: 50%;z-index: -1;}#sk-container-id-4 div.sk-parallel-item {display: flex;flex-direction: column;z-index: 1;position: relative;background-color: white;}#sk-container-id-4 div.sk-parallel-item:first-child::after {align-self: flex-end;width: 50%;}#sk-container-id-4 div.sk-parallel-item:last-child::after {align-self: flex-start;width: 50%;}#sk-container-id-4 div.sk-parallel-item:only-child::after {width: 0;}#sk-container-id-4 div.sk-dashed-wrapped {border: 1px dashed gray;margin: 0 0.4em 0.5em 0.4em;box-sizing: border-box;padding-bottom: 0.4em;background-color: white;}#sk-container-id-4 div.sk-label label {font-family: monospace;font-weight: bold;display: inline-block;line-height: 1.2em;}#sk-container-id-4 div.sk-label-container {text-align: center;}#sk-container-id-4 div.sk-container {/* jupyter's `normalize.less` sets `[hidden] { display: none; }` but bootstrap.min.css set `[hidden] { display: none !important; }` so we also need the `!important` here to be able to override the default hidden behavior on the sphinx rendered scikit-learn.org. See: https://github.com/scikit-learn/scikit-learn/issues/21755 */display: inline-block !important;position: relative;}#sk-container-id-4 div.sk-text-repr-fallback {display: none;}</style><div id=\"sk-container-id-4\" class=\"sk-top-container\"><div class=\"sk-text-repr-fallback\"><pre>Perceptron()</pre><b>In a Jupyter environment, please rerun this cell to show the HTML representation or trust the notebook. <br />On GitHub, the HTML representation is unable to render, please try loading this page with nbviewer.org.</b></div><div class=\"sk-container\" hidden><div class=\"sk-item\"><div class=\"sk-estimator sk-toggleable\"><input class=\"sk-toggleable__control sk-hidden--visually\" id=\"sk-estimator-id-4\" type=\"checkbox\" checked><label for=\"sk-estimator-id-4\" class=\"sk-toggleable__label sk-toggleable__label-arrow\">Perceptron</label><div class=\"sk-toggleable__content\"><pre>Perceptron()</pre></div></div></div></div></div>"
      ],
      "text/plain": [
       "Perceptron()"
      ]
     },
     "execution_count": 92,
     "metadata": {},
     "output_type": "execute_result"
    }
   ],
   "source": [
    "perceptron = Perceptron()\n",
    "perceptron.fit(X_train, y_train)"
   ]
  },
  {
   "cell_type": "code",
   "execution_count": 93,
   "id": "edc4ff84",
   "metadata": {},
   "outputs": [
    {
     "name": "stdout",
     "output_type": "stream",
     "text": [
      "1.0\n"
     ]
    }
   ],
   "source": [
    "print(perceptron.score(X_test, y_test)) # given petal length of 2 and width of 0.5, is it a setosa?"
   ]
  },
  {
   "cell_type": "markdown",
   "id": "03dcf22b",
   "metadata": {},
   "source": [
    "## Simple perceptron from scratch w/Iris classification"
   ]
  },
  {
   "cell_type": "markdown",
   "id": "7863820e",
   "metadata": {},
   "source": [
    "A single neuron/node with:\n",
    "- 2 inputs (petal length and width) and 2 input weights\n",
    "- 1 bias input (always inputs 1) and 1 bias weight\n",
    "- 1 binary output (1 == \"is setosa\", 0 == \"is not setosa\")\n",
    "\n",
    "Learning process:\n",
    "- For each input instance in training set:\n",
    "    - multiply each input feature (petal length and width) by its weight, and multiply the bias by its weight\n",
    "    - Sum the results\n",
    "    - If greater than or equal to 0, output 1, else output 0\n",
    "    - Calculate error by minusing the output from the target output. \n",
    "    - For each weight:\n",
    "        - Add the ((error * learning rate) * input) to the weight\n",
    "        - e.g. if the weight was 0.5, the input was -0.7, the output was 1 and the target output was 0, that's an error of -1, 0.05 * -1 * -0.7 = 0.035, so new weight is 0.535. If you got the same input again you've amplified the negative input which will result in a sum of weights * inputs closer to being less than 0, resulting in an output of 0, the target.\n",
    "        - e.g. if the weight was 0.5, the input was 0.7, the output 1 and the target output was 0, that's error of -1, 0.05 * -1 * 0.7 = -0.035, so the new weight is 0.465. If you got the same input again, you've supressed the positive input which will result in a sum of weights * inputs closer to being less than 0, resulting in an output of 0, the target.\n",
    "       \n"
   ]
  },
  {
   "cell_type": "code",
   "execution_count": 80,
   "id": "ea7f080b",
   "metadata": {},
   "outputs": [],
   "source": [
    "class MyPerceptron:\n",
    "    def __init__(self):   \n",
    "        self.input_weights = [0.5, 0.5]\n",
    "        self.bias_weight = 0.5\n",
    "        self.learning_rate = 0.05\n",
    "    \n",
    "    def fit(self, X, y):\n",
    "        for i in range(0, X.shape[0]):\n",
    "            output = self.predict(X[i, :])\n",
    "            error = y[i] - output\n",
    "            for j in range(0, len(self.input_weights)):\n",
    "                self.input_weights[j] = self.input_weights[j] + ((self.learning_rate * error) * X[i, j])\n",
    "            self.bias_weight = self.bias_weight + ((self.learning_rate * error) * 1)\n",
    "            \n",
    "    def predict(self, x):\n",
    "        product = 0\n",
    "        for input_val, weight in zip(x, self.input_weights):\n",
    "            product += input_val * weight\n",
    "        product += 1 * self.bias_weight\n",
    "        return int(product >= 0) # simple heaviside step function\n",
    "    \n",
    "    def score(self, X, y):\n",
    "        error = y.shape[0]\n",
    "        for i in range(0, X.shape[0]):\n",
    "            output = self.predict(X[i, :])\n",
    "            error -= abs(y[i] - output)\n",
    "        return f\"{error}/{y.shape[0]}\""
   ]
  },
  {
   "cell_type": "code",
   "execution_count": 97,
   "id": "2ce6ac4c",
   "metadata": {},
   "outputs": [
    {
     "name": "stdout",
     "output_type": "stream",
     "text": [
      "[0.5, 0.5]\n",
      "20/38\n",
      "[-0.20999999999999996, 0.19]\n",
      "38/38\n"
     ]
    }
   ],
   "source": [
    "model = MyPerceptron()\n",
    "print(model.input_weights)\n",
    "print(model.score(X_test,y_test))\n",
    "model.fit(X_train, y_train)\n",
    "print(model.input_weights)\n",
    "print(model.score(X_test,y_test))"
   ]
  },
  {
   "cell_type": "code",
   "execution_count": null,
   "id": "2f38c271",
   "metadata": {},
   "outputs": [],
   "source": []
  }
 ],
 "metadata": {
  "kernelspec": {
   "display_name": "Python 3 (ipykernel)",
   "language": "python",
   "name": "python3"
  },
  "language_info": {
   "codemirror_mode": {
    "name": "ipython",
    "version": 3
   },
   "file_extension": ".py",
   "mimetype": "text/x-python",
   "name": "python",
   "nbconvert_exporter": "python",
   "pygments_lexer": "ipython3",
   "version": "3.10.6"
  }
 },
 "nbformat": 4,
 "nbformat_minor": 5
}
